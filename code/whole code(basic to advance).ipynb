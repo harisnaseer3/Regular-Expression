{
 "cells": [
  {
   "cell_type": "markdown",
   "metadata": {},
   "source": [
    "RE is more intellegent form of research "
   ]
  },
  {
   "cell_type": "markdown",
   "metadata": {},
   "source": [
    "# RE quick guide"
   ]
  },
  {
   "cell_type": "raw",
   "metadata": {},
   "source": [
    "^    matches the begning of line\n",
    "$    matches the end of line\n",
    ".    matches any charecter\n",
    "\\s    mathes the whitespace\n",
    "\\S    matches any non-whitespace charecter\n",
    "*    repeat a char zero or more time\n",
    "*?    repreat a char or more time (non-greedy)\n",
    "+    repeat a char zero or more time\n",
    "+?    repreat a char or more time (non-greedy)\n",
    "[aeiou]    matches a single char in the listed set\n",
    "[^XYZ]    matches a single char not in the listed set\n",
    "[a-z0-9]    the set of char can include a range\n",
    "(    indicate where string extraction is to start\n",
    ")    indicate where string extraction is to end"
   ]
  },
  {
   "cell_type": "raw",
   "metadata": {},
   "source": [
    "before using RE we must import liberary using \"import.re\".\n",
    "we can use \"re.findall()\" to extract the portion of a string.\n",
    "we can use \"re.search()\" to see if a string matches a RE, similar to using a find() method for string."
   ]
  },
  {
   "cell_type": "code",
   "execution_count": 25,
   "metadata": {},
   "outputs": [
    {
     "name": "stdout",
     "output_type": "stream",
     "text": [
      "i am studying in Comsats university.\n",
      "in last samester i got GPA(3.56)\n",
      "my hobbies are cricket, table tannis, football and  hiking.\n"
     ]
    }
   ],
   "source": [
    "#simple code\n",
    "hand = open('data.txt')\n",
    "for line in hand:\n",
    "    line = line.rstrip()\n",
    "    if line.find('in')>=0:\n",
    "        print(line)"
   ]
  },
  {
   "cell_type": "raw",
   "metadata": {},
   "source": [
    "now do the same thing and do the same thing by using liberary."
   ]
  },
  {
   "cell_type": "code",
   "execution_count": 22,
   "metadata": {},
   "outputs": [
    {
     "name": "stdout",
     "output_type": "stream",
     "text": [
      "i am studying in Comsats university.\n",
      "in last samester i got GPA(3.56)\n",
      "my hobbies are cricket, table tannis, football and  hiking.\n"
     ]
    }
   ],
   "source": [
    "#using liberary\n",
    "import re\n",
    "hand = open('data.txt')\n",
    "for line in hand:\n",
    "    line = line.rstrip()\n",
    "    if re.search('in', line):\n",
    "        print(line)\n",
    "    "
   ]
  },
  {
   "cell_type": "code",
   "execution_count": 26,
   "metadata": {},
   "outputs": [
    {
     "name": "stdout",
     "output_type": "stream",
     "text": [
      "in last samester i got GPA(3.56)\n"
     ]
    }
   ],
   "source": [
    "#simple code\n",
    "hand = open('data.txt')\n",
    "for line in hand:\n",
    "    line = line.rstrip()\n",
    "    if line.startswith('in'):\n",
    "        print(line)"
   ]
  },
  {
   "cell_type": "code",
   "execution_count": 29,
   "metadata": {},
   "outputs": [
    {
     "name": "stdout",
     "output_type": "stream",
     "text": [
      "my hobbies are cricket, table tannis, football and  hiking.\n"
     ]
    }
   ],
   "source": [
    "#usinf liberary\n",
    "import re\n",
    "hand = open('data.txt')\n",
    "for line in hand:\n",
    "    line = line.rstrip()\n",
    "    if re.search('^in', line):\n",
    "        print(line)"
   ]
  },
  {
   "cell_type": "raw",
   "metadata": {},
   "source": [
    "\".\" is any char\n",
    "\"*\" is any char start with zero"
   ]
  },
  {
   "cell_type": "code",
   "execution_count": 49,
   "metadata": {},
   "outputs": [
    {
     "name": "stdout",
     "output_type": "stream",
     "text": [
      "i_am _haris-naseer-satti:\n",
      "i am a crickter: and also like to play table tannis as well.\n",
      "i am studying in Comsats university.\n",
      "in last samester i got GPA(3.56)\n"
     ]
    }
   ],
   "source": [
    "# import re\n",
    "hand = open('data.txt')\n",
    "for line in hand:\n",
    "    line = line.rstrip()\n",
    "    if re.search('^i.*', line):\n",
    "        print(line)"
   ]
  },
  {
   "cell_type": "raw",
   "metadata": {},
   "source": [
    "program for match the start of the line, one or more times ans match any non-whitespace character."
   ]
  },
  {
   "cell_type": "code",
   "execution_count": 45,
   "metadata": {},
   "outputs": [
    {
     "name": "stdout",
     "output_type": "stream",
     "text": [
      "i_am _haris-naseer-satti:\n"
     ]
    }
   ],
   "source": [
    "hand = open('data.txt')\n",
    "for line in hand:\n",
    "    line = line.rstrip()\n",
    "    if re.search('^i_\\S+', line):\n",
    "        print(line)"
   ]
  },
  {
   "cell_type": "code",
   "execution_count": 48,
   "metadata": {},
   "outputs": [
    {
     "name": "stdout",
     "output_type": "stream",
     "text": [
      "i_am _haris-naseer-satti:\n",
      "in last samester i got GPA(3.56)\n"
     ]
    }
   ],
   "source": [
    "hand = open('data.txt')\n",
    "for line in hand:\n",
    "    line = line.rstrip()\n",
    "    if re.search('^i\\S+', line):\n",
    "        print(line)"
   ]
  },
  {
   "cell_type": "code",
   "execution_count": null,
   "metadata": {},
   "outputs": [],
   "source": []
  }
 ],
 "metadata": {
  "kernelspec": {
   "display_name": "Python 3",
   "language": "python",
   "name": "python3"
  },
  "language_info": {
   "codemirror_mode": {
    "name": "ipython",
    "version": 3
   },
   "file_extension": ".py",
   "mimetype": "text/x-python",
   "name": "python",
   "nbconvert_exporter": "python",
   "pygments_lexer": "ipython3",
   "version": "3.7.6"
  }
 },
 "nbformat": 4,
 "nbformat_minor": 4
}
